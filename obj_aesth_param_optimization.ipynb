{
 "cells": [
  {
   "cell_type": "code",
   "execution_count": null,
   "metadata": {},
   "outputs": [],
   "source": [
    "## install the pytorch3d package; hit 'shift+enter' keys to run\n",
    "## NOTE: you only need to do this once, when you first start up the notebook\n",
    "!conda create --name pytorch3d --yes\n",
    "!conda activate pytorch3d\n",
    "!python3 -m pip install --upgrade numpy\n",
    "!conda install pytorch torchvision cudatoolkit=10.1 -c pytorch --yes\n",
    "!conda install -c conda-forge -c takatosp1 fvcore --yes\n",
    "!conda install pytorch3d -c pytorch3d --yes\n",
    "!python3 -m pip install tqdm pandas scipy opencv-python \n",
    "!python3 -m pip install --upgrade matplotlib --ignore-installed certifi\n",
    "!apt-get update\n",
    "!apt update && apt install -y libsm6 libxext6\n",
    "!apt-get install -y libxrender-dev\n",
    "!apt-get install ffmpeg libsm6 libxext6  -y\n",
    "!pip install opencv-python"
   ]
  },
  {
   "cell_type": "code",
   "execution_count": 26,
   "metadata": {},
   "outputs": [
    {
     "name": "stdout",
     "output_type": "stream",
     "text": [
      "Saving optim results to /tf/notebooks/acadia2020_graphcnn_src/results_sphere_optim_stylemodern_semantichouse_func4_aesth5\n",
      "\n",
      " ***************** Deforming *****************\n",
      "Iteration: 0 Loss: 349.96356\n",
      "Iteration: 50 Loss: 0.061670188\n",
      "Iteration: 100 Loss: 0.054253414\n",
      "Iteration: 150 Loss: 0.046196807\n",
      "Iteration: 200 Loss: 0.03926121\n"
     ]
    }
   ],
   "source": [
    "%%bash\n",
    "## run the optimization framework; hit 'shift+enter' keys to run\n",
    "## IMPORTANT INFO about running the acoustic optimization script:\n",
    "## The Command Format for this script: \n",
    "## bash run_acousticoptim.sh INPUT_MESH SILHOUETTE_DEFORM_FLAG SILHOUETTE_REF_IMG ACOUSTIC_DEFORM_FLAG WHICH_ACOUSTIC_PARAMS OUTPUT_NAME\n",
    "## where `INPUT_MESH_FILEPATH` is the absolute filepath of the mesh you would like to deform\n",
    "##       `TRAINED_GRAPH_FILEPATH` is the filepath to the trained mesh2aesthetic graph convolutional neural network\n",
    "##       `STYLE_PARAM` is either 'baroque', 'modern', or 'classic' \n",
    "##       `SEM_PARAM`  is either 'house' or 'column'\n",
    "##       `FUNC_PARAM` is an integer number from [1,2,3,4], where 1 is low functionality and 4 is high functionality\n",
    "##       `AESTH_PARAM` is an integer number from [1,2,3,4], where 1 is poor aesthetics and 5 is good aesthetics \n",
    "##       `OUTPUT_FILENAME` is the absolute filepath where you would like the deformed output mesh to be saved.\n",
    "##       `NUM_ITERS` is the number of iterations to run the optimization.\n",
    "##       `CFG_FILE` is the absolute path to the configuration file. You will need to change this to the config file path that you used for training the model (see above cell)\n",
    "##\n",
    "## Example Command:\n",
    "#!cd /storage/concerthall && bash run_acousticoptim.sh \\\n",
    "#                            INPUT_MESH_FILEPATH \\\n",
    "#                            TRAINED_GRAPH_FILEPATH \\\n",
    "#                            STYLE_PARAM \\\n",
    "#                            SEM_PARAM \\\n",
    "#                            FUNC_PARAM \\\n",
    "#                            AESTH_PARAM \\\n",
    "#                            OUTPUT_FILENAME \\\n",
    "#                            NUM_ITERS \\\n",
    "#                            CFG_FILE\n",
    "#\n",
    "#!INPUT_MESH_FILEPATH=\"/storage/3Dmodels/bench.obj\"\n",
    "#!TRAINED_GRAPH_FILEPATH=\"/storage/acadia2020_graphcnn_training_results/exp_09_26_14_01_06_ai_aesthetics_optim/model_best_loss.pkl\"\n",
    "#!CFG_FILE=\"/storage/acadia2020_graphcnn/config/mesh2aesthetics_train.yml\"\n",
    "INPUT_MESH_FILEPATH=\"sphere\"\n",
    "TRAINED_GRAPH_FILEPATH=\"acadia2020_graphcnn_training_results/exp_11_24_13_36_09_ai_aesthetics_optim_centered_bs32_lr2e-4_hd128_256_512_alltasks_nettype-GraphConvClf3_class-all_FINAL/model_best_loss.pkl\"\n",
    "CFG_FILE=\"config/mesh2aesthetics_train3.yml\"\n",
    "#!cd /storage/acadia2020_graphcnn && bash run_param_optim.sh \\\n",
    "bash run_param_optim.sh \\\n",
    "                            ${INPUT_MESH_FILEPATH} \\\n",
    "                            ${TRAINED_GRAPH_FILEPATH} \\\n",
    "                            \"modern\" \\\n",
    "                            \"house\" \\\n",
    "                            4 \\\n",
    "                            5 \\\n",
    "                            \"test_sil_deform.obj\" \\\n",
    "                            250 \\\n",
    "                            ${CFG_FILE}\n"
   ]
  },
  {
   "cell_type": "code",
   "execution_count": null,
   "metadata": {},
   "outputs": [],
   "source": []
  }
 ],
 "metadata": {
  "kernelspec": {
   "display_name": "Python 3",
   "language": "python",
   "name": "python3"
  },
  "language_info": {
   "codemirror_mode": {
    "name": "ipython",
    "version": 3
   },
   "file_extension": ".py",
   "mimetype": "text/x-python",
   "name": "python",
   "nbconvert_exporter": "python",
   "pygments_lexer": "ipython3",
   "version": "3.6.8"
  }
 },
 "nbformat": 4,
 "nbformat_minor": 4
}
