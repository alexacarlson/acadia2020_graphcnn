{
 "cells": [
  {
   "cell_type": "code",
   "execution_count": null,
   "metadata": {},
   "outputs": [],
   "source": [
    "## install the pytorch3d package; hit 'shift+enter' keys to run\n",
    "## NOTE: you only need to do this once, when you first start up the notebook\n",
    "!conda create --name pytorch3d --yes\n",
    "!conda activate pytorch3d\n",
    "!python3 -m pip install --upgrade numpy\n",
    "!conda install pytorch torchvision cudatoolkit=10.1 -c pytorch --yes\n",
    "!conda install -c conda-forge -c takatosp1 fvcore --yes\n",
    "!conda install pytorch3d -c pytorch3d --yes\n",
    "!python3 -m pip install tqdm pandas scipy opencv-python \n",
    "!python3 -m pip install --upgrade matplotlib --ignore-installed certifi\n",
    "!apt-get update\n",
    "!apt update && apt install -y libsm6 libxext6\n",
    "!apt-get install -y libxrender-dev\n",
    "!apt-get install ffmpeg libsm6 libxext6  -y\n",
    "!pip install opencv-python"
   ]
  },
  {
   "cell_type": "code",
   "execution_count": 10,
   "metadata": {},
   "outputs": [
    {
     "name": "stdout",
     "output_type": "stream",
     "text": [
      "Saving optim results to /tf/notebooks/acadia2020_graphcnn_src/results_sphere_optim_stylemodern_semantichouse_func4_aesth5\n"
     ]
    },
    {
     "name": "stderr",
     "output_type": "stream",
     "text": [
      "Traceback (most recent call last):\n",
      "  File \"obj_optim_aestheticparams.py\", line 212, in <module>\n",
      "    net_model.load_state_dict(torch.load(graphconv_model_path, map_location=torch.device('cpu'))['state_dict'])\n",
      "  File \"/root/miniconda/lib/python3.8/site-packages/torch/nn/modules/module.py\", line 1044, in load_state_dict\n",
      "    raise RuntimeError('Error(s) in loading state_dict for {}:\\n\\t{}'.format(\n",
      "RuntimeError: Error(s) in loading state_dict for GraphConvClf:\n",
      "\tMissing key(s) in state_dict: \"gconv3.w0.weight\", \"gconv3.w0.bias\", \"gconv3.w1.weight\", \"gconv3.w1.bias\", \"norm3.weight\", \"norm3.bias\", \"norm3.running_mean\", \"norm3.running_var\", \"fc_style.weight\", \"fc_style.bias\", \"fc_semantics.weight\", \"fc_semantics.bias\", \"fc_functionality.weight\", \"fc_functionality.bias\", \"fc_aesthetics.weight\", \"fc_aesthetics.bias\". \n",
      "\tUnexpected key(s) in state_dict: \"fc_style1.weight\", \"fc_style1.bias\", \"fc_semantics1.weight\", \"fc_semantics1.bias\", \"fc_functionality1.weight\", \"fc_functionality1.bias\", \"fc_aesthetics1.weight\", \"fc_aesthetics1.bias\", \"fc_style2.weight\", \"fc_style2.bias\", \"fc_semantics2.weight\", \"fc_semantics2.bias\", \"fc_functionality2.weight\", \"fc_functionality2.bias\", \"fc_aesthetics2.weight\", \"fc_aesthetics2.bias\". \n",
      "\tsize mismatch for gconv2.w0.weight: copying a param with shape torch.Size([512, 256]) from checkpoint, the shape in current model is torch.Size([256, 256]).\n",
      "\tsize mismatch for gconv2.w0.bias: copying a param with shape torch.Size([512]) from checkpoint, the shape in current model is torch.Size([256]).\n",
      "\tsize mismatch for gconv2.w1.weight: copying a param with shape torch.Size([512, 256]) from checkpoint, the shape in current model is torch.Size([256, 256]).\n",
      "\tsize mismatch for gconv2.w1.bias: copying a param with shape torch.Size([512]) from checkpoint, the shape in current model is torch.Size([256]).\n",
      "\tsize mismatch for norm2.weight: copying a param with shape torch.Size([512]) from checkpoint, the shape in current model is torch.Size([256]).\n",
      "\tsize mismatch for norm2.bias: copying a param with shape torch.Size([512]) from checkpoint, the shape in current model is torch.Size([256]).\n",
      "\tsize mismatch for norm2.running_mean: copying a param with shape torch.Size([512]) from checkpoint, the shape in current model is torch.Size([256]).\n",
      "\tsize mismatch for norm2.running_var: copying a param with shape torch.Size([512]) from checkpoint, the shape in current model is torch.Size([256]).\n",
      "\tsize mismatch for fc1.weight: copying a param with shape torch.Size([512, 512]) from checkpoint, the shape in current model is torch.Size([128, 512]).\n",
      "\tsize mismatch for fc1.bias: copying a param with shape torch.Size([512]) from checkpoint, the shape in current model is torch.Size([128]).\n"
     ]
    },
    {
     "ename": "CalledProcessError",
     "evalue": "Command 'b'## run the optimization framework; hit \\'shift+enter\\' keys to run\\n## IMPORTANT INFO about running the acoustic optimization script:\\n## The Command Format for this script: \\n## bash run_acousticoptim.sh INPUT_MESH SILHOUETTE_DEFORM_FLAG SILHOUETTE_REF_IMG ACOUSTIC_DEFORM_FLAG WHICH_ACOUSTIC_PARAMS OUTPUT_NAME\\n## where `INPUT_MESH_FILEPATH` is the absolute filepath of the mesh you would like to deform\\n##       `TRAINED_GRAPH_FILEPATH` is the filepath to the trained mesh2aesthetic graph convolutional neural network\\n##       `STYLE_PARAM` is either \\'baroque\\', \\'modern\\', or \\'classic\\' \\n##       `SEM_PARAM`  is either \\'house\\' or \\'column\\'\\n##       `FUNC_PARAM` is an integer number from [1,2,3,4], where 1 is low functionality and 4 is high functionality\\n##       `AESTH_PARAM` is an integer number from [1,2,3,4], where 1 is poor aesthetics and 5 is good aesthetics \\n##       `OUTPUT_FILENAME` is the absolute filepath where you would like the deformed output mesh to be saved.\\n##       `NUM_ITERS` is the number of iterations to run the optimization.\\n##       `CFG_FILE` is the absolute path to the configuration file. You will need to change this to the config file path that you used for training the model (see above cell)\\n##\\n## Example Command:\\n#!cd /storage/concerthall && bash run_acousticoptim.sh \\\\\\n#                            INPUT_MESH_FILEPATH \\\\\\n#                            TRAINED_GRAPH_FILEPATH \\\\\\n#                            STYLE_PARAM \\\\\\n#                            SEM_PARAM \\\\\\n#                            FUNC_PARAM \\\\\\n#                            AESTH_PARAM \\\\\\n#                            OUTPUT_FILENAME \\\\\\n#                            NUM_ITERS \\\\\\n#                            CFG_FILE\\n#\\n#!INPUT_MESH_FILEPATH=\"/storage/3Dmodels/bench.obj\"\\n#!TRAINED_GRAPH_FILEPATH=\"/storage/acadia2020_graphcnn_training_results/exp_09_26_14_01_06_ai_aesthetics_optim/model_best_loss.pkl\"\\n#!CFG_FILE=\"/storage/acadia2020_graphcnn/config/mesh2aesthetics_train.yml\"\\nINPUT_MESH_FILEPATH=\"sphere\"\\nTRAINED_GRAPH_FILEPATH=\"acadia2020_graphcnn_training_results/exp_11_24_13_36_09_ai_aesthetics_optim_centered_bs32_lr2e-4_hd128_256_512_alltasks_nettype-GraphConvClf3_class-all_FINAL/model_best_loss.pkl\"\\nCFG_FILE=\"config/mesh2aesthetics_train.yml\"\\n#!cd /storage/acadia2020_graphcnn && bash run_param_optim.sh \\\\\\nbash run_param_optim.sh \\\\\\n                            ${INPUT_MESH_FILEPATH} \\\\\\n                            ${TRAINED_GRAPH_FILEPATH} \\\\\\n                            \"modern\" \\\\\\n                            \"house\" \\\\\\n                            4 \\\\\\n                            5 \\\\\\n                            \"test_sil_deform.obj\" \\\\\\n                            250 \\\\\\n                            ${CFG_FILE}\\n'' returned non-zero exit status 1.",
     "output_type": "error",
     "traceback": [
      "\u001b[0;31m---------------------------------------------------------------------------\u001b[0m",
      "\u001b[0;31mCalledProcessError\u001b[0m                        Traceback (most recent call last)",
      "\u001b[0;32m<ipython-input-10-c94874e566d5>\u001b[0m in \u001b[0;36m<module>\u001b[0;34m\u001b[0m\n\u001b[0;32m----> 1\u001b[0;31m \u001b[0mget_ipython\u001b[0m\u001b[0;34m(\u001b[0m\u001b[0;34m)\u001b[0m\u001b[0;34m.\u001b[0m\u001b[0mrun_cell_magic\u001b[0m\u001b[0;34m(\u001b[0m\u001b[0;34m'bash'\u001b[0m\u001b[0;34m,\u001b[0m \u001b[0;34m''\u001b[0m\u001b[0;34m,\u001b[0m \u001b[0;34m'## run the optimization framework; hit \\'shift+enter\\' keys to run\\n## IMPORTANT INFO about running the acoustic optimization script:\\n## The Command Format for this script: \\n## bash run_acousticoptim.sh INPUT_MESH SILHOUETTE_DEFORM_FLAG SILHOUETTE_REF_IMG ACOUSTIC_DEFORM_FLAG WHICH_ACOUSTIC_PARAMS OUTPUT_NAME\\n## where `INPUT_MESH_FILEPATH` is the absolute filepath of the mesh you would like to deform\\n##       `TRAINED_GRAPH_FILEPATH` is the filepath to the trained mesh2aesthetic graph convolutional neural network\\n##       `STYLE_PARAM` is either \\'baroque\\', \\'modern\\', or \\'classic\\' \\n##       `SEM_PARAM`  is either \\'house\\' or \\'column\\'\\n##       `FUNC_PARAM` is an integer number from [1,2,3,4], where 1 is low functionality and 4 is high functionality\\n##       `AESTH_PARAM` is an integer number from [1,2,3,4], where 1 is poor aesthetics and 5 is good aesthetics \\n##       `OUTPUT_FILENAME` is the absolute filepath where you would like the deformed output mesh to be saved.\\n##       `NUM_ITERS` is the number of iterations to run the optimization.\\n##       `CFG_FILE` is the absolute path to the configuration file. You will need to change this to the config file path that you used for training the model (see above cell)\\n##\\n## Example Command:\\n#!cd /storage/concerthall && bash run_acousticoptim.sh \\\\\\n#                            INPUT_MESH_FILEPATH \\\\\\n#                            TRAINED_GRAPH_FILEPATH \\\\\\n#                            STYLE_PARAM \\\\\\n#                            SEM_PARAM \\\\\\n#                            FUNC_PARAM \\\\\\n#                            AESTH_PARAM \\\\\\n#                            OUTPUT_FILENAME \\\\\\n#                            NUM_ITERS \\\\\\n#                            CFG_FILE\\n#\\n#!INPUT_MESH_FILEPATH=\"/storage/3Dmodels/bench.obj\"\\n#!TRAINED_GRAPH_FILEPATH=\"/storage/acadia2020_graphcnn_training_results/exp_09_26_14_01_06_ai_aesthetics_optim/model_best_loss.pkl\"\\n#!CFG_FILE=\"/storage/acadia2020_graphcnn/config/mesh2aesthetics_train.yml\"\\nINPUT_MESH_FILEPATH=\"sphere\"\\nTRAINED_GRAPH_FILEPATH=\"acadia2020_graphcnn_training_results/exp_11_24_13_36_09_ai_aesthetics_optim_centered_bs32_lr2e-4_hd128_256_512_alltasks_nettype-GraphConvClf3_class-all_FINAL/model_best_loss.pkl\"\\nCFG_FILE=\"config/mesh2aesthetics_train.yml\"\\n#!cd /storage/acadia2020_graphcnn && bash run_param_optim.sh \\\\\\nbash run_param_optim.sh \\\\\\n                            ${INPUT_MESH_FILEPATH} \\\\\\n                            ${TRAINED_GRAPH_FILEPATH} \\\\\\n                            \"modern\" \\\\\\n                            \"house\" \\\\\\n                            4 \\\\\\n                            5 \\\\\\n                            \"test_sil_deform.obj\" \\\\\\n                            250 \\\\\\n                            ${CFG_FILE}\\n'\u001b[0m\u001b[0;34m)\u001b[0m\u001b[0;34m\u001b[0m\u001b[0;34m\u001b[0m\u001b[0m\n\u001b[0m",
      "\u001b[0;32m/usr/local/lib/python3.6/dist-packages/IPython/core/interactiveshell.py\u001b[0m in \u001b[0;36mrun_cell_magic\u001b[0;34m(self, magic_name, line, cell)\u001b[0m\n\u001b[1;32m   2357\u001b[0m             \u001b[0;32mwith\u001b[0m \u001b[0mself\u001b[0m\u001b[0;34m.\u001b[0m\u001b[0mbuiltin_trap\u001b[0m\u001b[0;34m:\u001b[0m\u001b[0;34m\u001b[0m\u001b[0;34m\u001b[0m\u001b[0m\n\u001b[1;32m   2358\u001b[0m                 \u001b[0margs\u001b[0m \u001b[0;34m=\u001b[0m \u001b[0;34m(\u001b[0m\u001b[0mmagic_arg_s\u001b[0m\u001b[0;34m,\u001b[0m \u001b[0mcell\u001b[0m\u001b[0;34m)\u001b[0m\u001b[0;34m\u001b[0m\u001b[0;34m\u001b[0m\u001b[0m\n\u001b[0;32m-> 2359\u001b[0;31m                 \u001b[0mresult\u001b[0m \u001b[0;34m=\u001b[0m \u001b[0mfn\u001b[0m\u001b[0;34m(\u001b[0m\u001b[0;34m*\u001b[0m\u001b[0margs\u001b[0m\u001b[0;34m,\u001b[0m \u001b[0;34m**\u001b[0m\u001b[0mkwargs\u001b[0m\u001b[0;34m)\u001b[0m\u001b[0;34m\u001b[0m\u001b[0;34m\u001b[0m\u001b[0m\n\u001b[0m\u001b[1;32m   2360\u001b[0m             \u001b[0;32mreturn\u001b[0m \u001b[0mresult\u001b[0m\u001b[0;34m\u001b[0m\u001b[0;34m\u001b[0m\u001b[0m\n\u001b[1;32m   2361\u001b[0m \u001b[0;34m\u001b[0m\u001b[0m\n",
      "\u001b[0;32m/usr/local/lib/python3.6/dist-packages/IPython/core/magics/script.py\u001b[0m in \u001b[0;36mnamed_script_magic\u001b[0;34m(line, cell)\u001b[0m\n\u001b[1;32m    140\u001b[0m             \u001b[0;32melse\u001b[0m\u001b[0;34m:\u001b[0m\u001b[0;34m\u001b[0m\u001b[0;34m\u001b[0m\u001b[0m\n\u001b[1;32m    141\u001b[0m                 \u001b[0mline\u001b[0m \u001b[0;34m=\u001b[0m \u001b[0mscript\u001b[0m\u001b[0;34m\u001b[0m\u001b[0;34m\u001b[0m\u001b[0m\n\u001b[0;32m--> 142\u001b[0;31m             \u001b[0;32mreturn\u001b[0m \u001b[0mself\u001b[0m\u001b[0;34m.\u001b[0m\u001b[0mshebang\u001b[0m\u001b[0;34m(\u001b[0m\u001b[0mline\u001b[0m\u001b[0;34m,\u001b[0m \u001b[0mcell\u001b[0m\u001b[0;34m)\u001b[0m\u001b[0;34m\u001b[0m\u001b[0;34m\u001b[0m\u001b[0m\n\u001b[0m\u001b[1;32m    143\u001b[0m \u001b[0;34m\u001b[0m\u001b[0m\n\u001b[1;32m    144\u001b[0m         \u001b[0;31m# write a basic docstring:\u001b[0m\u001b[0;34m\u001b[0m\u001b[0;34m\u001b[0m\u001b[0;34m\u001b[0m\u001b[0m\n",
      "\u001b[0;32m</usr/local/lib/python3.6/dist-packages/decorator.py:decorator-gen-110>\u001b[0m in \u001b[0;36mshebang\u001b[0;34m(self, line, cell)\u001b[0m\n",
      "\u001b[0;32m/usr/local/lib/python3.6/dist-packages/IPython/core/magic.py\u001b[0m in \u001b[0;36m<lambda>\u001b[0;34m(f, *a, **k)\u001b[0m\n\u001b[1;32m    185\u001b[0m     \u001b[0;31m# but it's overkill for just that one bit of state.\u001b[0m\u001b[0;34m\u001b[0m\u001b[0;34m\u001b[0m\u001b[0;34m\u001b[0m\u001b[0m\n\u001b[1;32m    186\u001b[0m     \u001b[0;32mdef\u001b[0m \u001b[0mmagic_deco\u001b[0m\u001b[0;34m(\u001b[0m\u001b[0marg\u001b[0m\u001b[0;34m)\u001b[0m\u001b[0;34m:\u001b[0m\u001b[0;34m\u001b[0m\u001b[0;34m\u001b[0m\u001b[0m\n\u001b[0;32m--> 187\u001b[0;31m         \u001b[0mcall\u001b[0m \u001b[0;34m=\u001b[0m \u001b[0;32mlambda\u001b[0m \u001b[0mf\u001b[0m\u001b[0;34m,\u001b[0m \u001b[0;34m*\u001b[0m\u001b[0ma\u001b[0m\u001b[0;34m,\u001b[0m \u001b[0;34m**\u001b[0m\u001b[0mk\u001b[0m\u001b[0;34m:\u001b[0m \u001b[0mf\u001b[0m\u001b[0;34m(\u001b[0m\u001b[0;34m*\u001b[0m\u001b[0ma\u001b[0m\u001b[0;34m,\u001b[0m \u001b[0;34m**\u001b[0m\u001b[0mk\u001b[0m\u001b[0;34m)\u001b[0m\u001b[0;34m\u001b[0m\u001b[0;34m\u001b[0m\u001b[0m\n\u001b[0m\u001b[1;32m    188\u001b[0m \u001b[0;34m\u001b[0m\u001b[0m\n\u001b[1;32m    189\u001b[0m         \u001b[0;32mif\u001b[0m \u001b[0mcallable\u001b[0m\u001b[0;34m(\u001b[0m\u001b[0marg\u001b[0m\u001b[0;34m)\u001b[0m\u001b[0;34m:\u001b[0m\u001b[0;34m\u001b[0m\u001b[0;34m\u001b[0m\u001b[0m\n",
      "\u001b[0;32m/usr/local/lib/python3.6/dist-packages/IPython/core/magics/script.py\u001b[0m in \u001b[0;36mshebang\u001b[0;34m(self, line, cell)\u001b[0m\n\u001b[1;32m    243\u001b[0m             \u001b[0msys\u001b[0m\u001b[0;34m.\u001b[0m\u001b[0mstderr\u001b[0m\u001b[0;34m.\u001b[0m\u001b[0mflush\u001b[0m\u001b[0;34m(\u001b[0m\u001b[0;34m)\u001b[0m\u001b[0;34m\u001b[0m\u001b[0;34m\u001b[0m\u001b[0m\n\u001b[1;32m    244\u001b[0m         \u001b[0;32mif\u001b[0m \u001b[0margs\u001b[0m\u001b[0;34m.\u001b[0m\u001b[0mraise_error\u001b[0m \u001b[0;32mand\u001b[0m \u001b[0mp\u001b[0m\u001b[0;34m.\u001b[0m\u001b[0mreturncode\u001b[0m\u001b[0;34m!=\u001b[0m\u001b[0;36m0\u001b[0m\u001b[0;34m:\u001b[0m\u001b[0;34m\u001b[0m\u001b[0;34m\u001b[0m\u001b[0m\n\u001b[0;32m--> 245\u001b[0;31m             \u001b[0;32mraise\u001b[0m \u001b[0mCalledProcessError\u001b[0m\u001b[0;34m(\u001b[0m\u001b[0mp\u001b[0m\u001b[0;34m.\u001b[0m\u001b[0mreturncode\u001b[0m\u001b[0;34m,\u001b[0m \u001b[0mcell\u001b[0m\u001b[0;34m,\u001b[0m \u001b[0moutput\u001b[0m\u001b[0;34m=\u001b[0m\u001b[0mout\u001b[0m\u001b[0;34m,\u001b[0m \u001b[0mstderr\u001b[0m\u001b[0;34m=\u001b[0m\u001b[0merr\u001b[0m\u001b[0;34m)\u001b[0m\u001b[0;34m\u001b[0m\u001b[0;34m\u001b[0m\u001b[0m\n\u001b[0m\u001b[1;32m    246\u001b[0m \u001b[0;34m\u001b[0m\u001b[0m\n\u001b[1;32m    247\u001b[0m     \u001b[0;32mdef\u001b[0m \u001b[0m_run_script\u001b[0m\u001b[0;34m(\u001b[0m\u001b[0mself\u001b[0m\u001b[0;34m,\u001b[0m \u001b[0mp\u001b[0m\u001b[0;34m,\u001b[0m \u001b[0mcell\u001b[0m\u001b[0;34m,\u001b[0m \u001b[0mto_close\u001b[0m\u001b[0;34m)\u001b[0m\u001b[0;34m:\u001b[0m\u001b[0;34m\u001b[0m\u001b[0;34m\u001b[0m\u001b[0m\n",
      "\u001b[0;31mCalledProcessError\u001b[0m: Command 'b'## run the optimization framework; hit \\'shift+enter\\' keys to run\\n## IMPORTANT INFO about running the acoustic optimization script:\\n## The Command Format for this script: \\n## bash run_acousticoptim.sh INPUT_MESH SILHOUETTE_DEFORM_FLAG SILHOUETTE_REF_IMG ACOUSTIC_DEFORM_FLAG WHICH_ACOUSTIC_PARAMS OUTPUT_NAME\\n## where `INPUT_MESH_FILEPATH` is the absolute filepath of the mesh you would like to deform\\n##       `TRAINED_GRAPH_FILEPATH` is the filepath to the trained mesh2aesthetic graph convolutional neural network\\n##       `STYLE_PARAM` is either \\'baroque\\', \\'modern\\', or \\'classic\\' \\n##       `SEM_PARAM`  is either \\'house\\' or \\'column\\'\\n##       `FUNC_PARAM` is an integer number from [1,2,3,4], where 1 is low functionality and 4 is high functionality\\n##       `AESTH_PARAM` is an integer number from [1,2,3,4], where 1 is poor aesthetics and 5 is good aesthetics \\n##       `OUTPUT_FILENAME` is the absolute filepath where you would like the deformed output mesh to be saved.\\n##       `NUM_ITERS` is the number of iterations to run the optimization.\\n##       `CFG_FILE` is the absolute path to the configuration file. You will need to change this to the config file path that you used for training the model (see above cell)\\n##\\n## Example Command:\\n#!cd /storage/concerthall && bash run_acousticoptim.sh \\\\\\n#                            INPUT_MESH_FILEPATH \\\\\\n#                            TRAINED_GRAPH_FILEPATH \\\\\\n#                            STYLE_PARAM \\\\\\n#                            SEM_PARAM \\\\\\n#                            FUNC_PARAM \\\\\\n#                            AESTH_PARAM \\\\\\n#                            OUTPUT_FILENAME \\\\\\n#                            NUM_ITERS \\\\\\n#                            CFG_FILE\\n#\\n#!INPUT_MESH_FILEPATH=\"/storage/3Dmodels/bench.obj\"\\n#!TRAINED_GRAPH_FILEPATH=\"/storage/acadia2020_graphcnn_training_results/exp_09_26_14_01_06_ai_aesthetics_optim/model_best_loss.pkl\"\\n#!CFG_FILE=\"/storage/acadia2020_graphcnn/config/mesh2aesthetics_train.yml\"\\nINPUT_MESH_FILEPATH=\"sphere\"\\nTRAINED_GRAPH_FILEPATH=\"acadia2020_graphcnn_training_results/exp_11_24_13_36_09_ai_aesthetics_optim_centered_bs32_lr2e-4_hd128_256_512_alltasks_nettype-GraphConvClf3_class-all_FINAL/model_best_loss.pkl\"\\nCFG_FILE=\"config/mesh2aesthetics_train.yml\"\\n#!cd /storage/acadia2020_graphcnn && bash run_param_optim.sh \\\\\\nbash run_param_optim.sh \\\\\\n                            ${INPUT_MESH_FILEPATH} \\\\\\n                            ${TRAINED_GRAPH_FILEPATH} \\\\\\n                            \"modern\" \\\\\\n                            \"house\" \\\\\\n                            4 \\\\\\n                            5 \\\\\\n                            \"test_sil_deform.obj\" \\\\\\n                            250 \\\\\\n                            ${CFG_FILE}\\n'' returned non-zero exit status 1."
     ]
    }
   ],
   "source": [
    "%%bash\n",
    "## run the optimization framework; hit 'shift+enter' keys to run\n",
    "## IMPORTANT INFO about running the acoustic optimization script:\n",
    "## The Command Format for this script: \n",
    "## bash run_acousticoptim.sh INPUT_MESH SILHOUETTE_DEFORM_FLAG SILHOUETTE_REF_IMG ACOUSTIC_DEFORM_FLAG WHICH_ACOUSTIC_PARAMS OUTPUT_NAME\n",
    "## where `INPUT_MESH_FILEPATH` is the absolute filepath of the mesh you would like to deform\n",
    "##       `TRAINED_GRAPH_FILEPATH` is the filepath to the trained mesh2aesthetic graph convolutional neural network\n",
    "##       `STYLE_PARAM` is either 'baroque', 'modern', or 'classic' \n",
    "##       `SEM_PARAM`  is either 'house' or 'column'\n",
    "##       `FUNC_PARAM` is an integer number from [1,2,3,4], where 1 is low functionality and 4 is high functionality\n",
    "##       `AESTH_PARAM` is an integer number from [1,2,3,4], where 1 is poor aesthetics and 5 is good aesthetics \n",
    "##       `OUTPUT_FILENAME` is the absolute filepath where you would like the deformed output mesh to be saved.\n",
    "##       `NUM_ITERS` is the number of iterations to run the optimization.\n",
    "##       `CFG_FILE` is the absolute path to the configuration file. You will need to change this to the config file path that you used for training the model (see above cell)\n",
    "##\n",
    "## Example Command:\n",
    "#!cd /storage/concerthall && bash run_acousticoptim.sh \\\n",
    "#                            INPUT_MESH_FILEPATH \\\n",
    "#                            TRAINED_GRAPH_FILEPATH \\\n",
    "#                            STYLE_PARAM \\\n",
    "#                            SEM_PARAM \\\n",
    "#                            FUNC_PARAM \\\n",
    "#                            AESTH_PARAM \\\n",
    "#                            OUTPUT_FILENAME \\\n",
    "#                            NUM_ITERS \\\n",
    "#                            CFG_FILE\n",
    "#\n",
    "#!INPUT_MESH_FILEPATH=\"/storage/3Dmodels/bench.obj\"\n",
    "#!TRAINED_GRAPH_FILEPATH=\"/storage/acadia2020_graphcnn_training_results/exp_09_26_14_01_06_ai_aesthetics_optim/model_best_loss.pkl\"\n",
    "#!CFG_FILE=\"/storage/acadia2020_graphcnn/config/mesh2aesthetics_train.yml\"\n",
    "INPUT_MESH_FILEPATH=\"sphere\"\n",
    "TRAINED_GRAPH_FILEPATH=\"acadia2020_graphcnn_training_results/exp_11_24_13_36_09_ai_aesthetics_optim_centered_bs32_lr2e-4_hd128_256_512_alltasks_nettype-GraphConvClf3_class-all_FINAL/model_best_loss.pkl\"\n",
    "CFG_FILE=\"config/mesh2aesthetics_train3.yml\"\n",
    "#!cd /storage/acadia2020_graphcnn && bash run_param_optim.sh \\\n",
    "bash run_param_optim.sh \\\n",
    "                            ${INPUT_MESH_FILEPATH} \\\n",
    "                            ${TRAINED_GRAPH_FILEPATH} \\\n",
    "                            \"modern\" \\\n",
    "                            \"house\" \\\n",
    "                            4 \\\n",
    "                            5 \\\n",
    "                            \"test_sil_deform.obj\" \\\n",
    "                            250 \\\n",
    "                            ${CFG_FILE}\n"
   ]
  },
  {
   "cell_type": "code",
   "execution_count": null,
   "metadata": {},
   "outputs": [],
   "source": [
    "\n"
   ]
  },
  {
   "cell_type": "code",
   "execution_count": null,
   "metadata": {},
   "outputs": [],
   "source": []
  },
  {
   "cell_type": "code",
   "execution_count": null,
   "metadata": {},
   "outputs": [],
   "source": []
  }
 ],
 "metadata": {
  "kernelspec": {
   "display_name": "Python 3",
   "language": "python",
   "name": "python3"
  },
  "language_info": {
   "codemirror_mode": {
    "name": "ipython",
    "version": 3
   },
   "file_extension": ".py",
   "mimetype": "text/x-python",
   "name": "python",
   "nbconvert_exporter": "python",
   "pygments_lexer": "ipython3",
   "version": "3.6.8"
  }
 },
 "nbformat": 4,
 "nbformat_minor": 4
}
